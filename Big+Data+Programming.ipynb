{
 "cells": [
  {
   "cell_type": "markdown",
   "metadata": {},
   "source": [
    "# Programming with Big Data\n",
    "\n",
    "In this workbook, we will gain a greater understanding of the map-reduce model of computation by implementing our own system for running map reduce jobs.\n",
    "\n",
    "## Mapping functions in general\n",
    "\n",
    "In computer science, the \"map\" function is a higher-order function, which means that it is a function that takes another function as one of its arguments. In the case of map, arguments are a function and a collection, and the result is a new collection which results"
   ]
  },
  {
   "cell_type": "code",
   "execution_count": 1,
   "metadata": {
    "collapsed": false
   },
   "outputs": [],
   "source": [
    "result1 = map(len, [\"hi\", \"hello\", \"hola\", \"ni hao\"])\n",
    "\n",
    "def square(x):\n",
    "    return x * x\n",
    "\n",
    "result2 = map(square, [0, 1, 2, 3, 4])\n",
    "\n",
    "result3 = map(lambda x: (x.upper(), x.lower()), [\"Bye\", \"Adios\", \"Zai Jian\"])"
   ]
  },
  {
   "cell_type": "markdown",
   "metadata": {},
   "source": [
    "In each of these assignments, we are mapping a function (the first argument) over a collection (the second argument). Here we have used lists as our collections. The function can be built-in, it can be a named function that we define, or can be an inline function defined using python's `lambda` keyword.\n",
    "\n",
    "Let's take a look at the result."
   ]
  },
  {
   "cell_type": "code",
   "execution_count": 2,
   "metadata": {
    "collapsed": false
   },
   "outputs": [
    {
     "name": "stdout",
     "output_type": "stream",
     "text": [
      "[2, 5, 4, 6]\n"
     ]
    }
   ],
   "source": [
    "print(result1)"
   ]
  },
  {
   "cell_type": "markdown",
   "metadata": {},
   "source": [
    "What happened? For efficiency's sake, python doesn't actually compute the final result until it is needed elsewhere in the program. One way to force evaluation is to construct a new collection using the result of the map."
   ]
  },
  {
   "cell_type": "code",
   "execution_count": 3,
   "metadata": {
    "collapsed": false
   },
   "outputs": [
    {
     "data": {
      "text/plain": [
       "[2, 5, 4, 6]"
      ]
     },
     "execution_count": 3,
     "metadata": {},
     "output_type": "execute_result"
    }
   ],
   "source": [
    "# a list containing the lengths of the words hi, hello, hola, and ni hao.\n",
    "list(result1)"
   ]
  },
  {
   "cell_type": "markdown",
   "metadata": {},
   "source": [
    "Let's print the other results."
   ]
  },
  {
   "cell_type": "code",
   "execution_count": 4,
   "metadata": {
    "collapsed": false
   },
   "outputs": [
    {
     "name": "stdout",
     "output_type": "stream",
     "text": [
      "[0, 1, 4, 9, 16]\n",
      "[('BYE', 'bye'), ('ADIOS', 'adios'), ('ZAI JIAN', 'zai jian')]\n"
     ]
    }
   ],
   "source": [
    "# a list containing the squares of the numbers 0 through 4\n",
    "print(list(result2))\n",
    "\n",
    "# a list of pairs\n",
    "print(list(result3))"
   ]
  },
  {
   "cell_type": "markdown",
   "metadata": {},
   "source": [
    "An important aspect of the `map` function is that each application of the function argment to an element in the collection argument is independent of all other applications. That means that all these function applications can happen in parallel."
   ]
  },
  {
   "cell_type": "markdown",
   "metadata": {},
   "source": [
    "## Reducing collections in general\n",
    "\n",
    "To reduce a collection you need a function of two arguments:\n",
    "* The first argument will be the output from a previous application of the function (or an initial value)\n",
    "* The second argument will be an element of the collection\n",
    "\n",
    "It will be easier to understand if we give an example. Given a list of numbers `[1, 5, 2, 6, 2]` we can represent the sum as an application of `reduce`. In this setup:\n",
    "* The collection is the list `[1, 5, 2, 6, 2]`\n",
    "* The function is simple pairwise addition\n",
    "* The initial value is 0\n",
    "\n",
    "Let's see an example in code."
   ]
  },
  {
   "cell_type": "code",
   "execution_count": 5,
   "metadata": {
    "collapsed": false
   },
   "outputs": [
    {
     "data": {
      "text/plain": [
       "16"
      ]
     },
     "execution_count": 5,
     "metadata": {},
     "output_type": "execute_result"
    }
   ],
   "source": [
    "from functools import reduce\n",
    "\n",
    "coll = [1, 5, 2, 6, 2]\n",
    "\n",
    "def add2(x, y):\n",
    "    return x + y\n",
    "\n",
    "initial_value = 0\n",
    "\n",
    "reduce(add2, coll, initial_value)"
   ]
  },
  {
   "cell_type": "markdown",
   "metadata": {},
   "source": [
    "As a second example, we can count the occurences of characters in a sstring using the `reduce` function. In this case:\n",
    "\n",
    "* The collection is the string (python treats strings as collection of their constituent characters)\n",
    "* The function will take a python dictionary and a character as arguments. The dictionary will use characters as keys and counts as values. The function will look up a character in the dictionary, increment its count, and return the result.\n",
    "* The initial value is an empty dictionary object"
   ]
  },
  {
   "cell_type": "code",
   "execution_count": 6,
   "metadata": {
    "collapsed": false
   },
   "outputs": [
    {
     "data": {
      "text/plain": [
       "{' ': 8,\n",
       " '.': 1,\n",
       " 'S': 1,\n",
       " 'T': 1,\n",
       " 'a': 5,\n",
       " 'e': 2,\n",
       " 'f': 1,\n",
       " 'h': 2,\n",
       " 'i': 5,\n",
       " 'l': 4,\n",
       " 'm': 1,\n",
       " 'n': 6,\n",
       " 'o': 1,\n",
       " 'p': 2,\n",
       " 'r': 1,\n",
       " 's': 1,\n",
       " 't': 1,\n",
       " 'y': 1}"
      ]
     },
     "execution_count": 6,
     "metadata": {},
     "output_type": "execute_result"
    }
   ],
   "source": [
    "coll = \"The rain in Spain falls mainly on the plain.\"\n",
    "\n",
    "def count_character(counts, char):\n",
    "    \"\"\"If char already appears in counts then increment the associated\n",
    "    value. Otherwise, set the associated value to 1.\"\"\"\n",
    "    \n",
    "    if char in counts:\n",
    "        counts[char] += 1\n",
    "    else:\n",
    "        counts[char] = 1\n",
    "        \n",
    "    return counts\n",
    "\n",
    "# we don't need to define a variable named initial_value,\n",
    "# we can just pass an empty dictionary to the reduce function\n",
    "\n",
    "reduce(count_character, coll, {})"
   ]
  },
  {
   "cell_type": "markdown",
   "metadata": {},
   "source": [
    "As a final example, we can compute the maximum of a collection of numbers. In this case, the binary function is just the built-in `max` function. What about the initial value? One option would be to use python's representation of negative infinity, because it will be smaller than any other number that appears in our collection.\n",
    "\n",
    "There is a second option that takes advantage of the domain and range of the `max` function. Note that there is a difference between `max` and `add2` on the one hand and `count_character` on the other hand. In the case of `max` and `add2`, the output of those functions belongs to the same domain as the collections they are applied to. In the case of `count_character`, however, the output is a dictionary but the collection it is applied to contains characters.\n",
    "\n",
    "When your reducing function produces values in the same domain as the element of the collection it is applied to, you can actually leave out the initial value. python will then take an initial value from the collection itself."
   ]
  },
  {
   "cell_type": "code",
   "execution_count": 7,
   "metadata": {
    "collapsed": false
   },
   "outputs": [
    {
     "data": {
      "text/plain": [
       "101"
      ]
     },
     "execution_count": 7,
     "metadata": {},
     "output_type": "execute_result"
    }
   ],
   "source": [
    "# compute the maximum of the collection\n",
    "\n",
    "reduce(max, [79, 81, 54, 101, 25, 95])"
   ]
  },
  {
   "cell_type": "markdown",
   "metadata": {},
   "source": [
    "We can rewrite the summation example without using an initial value."
   ]
  },
  {
   "cell_type": "code",
   "execution_count": 8,
   "metadata": {
    "collapsed": false
   },
   "outputs": [
    {
     "data": {
      "text/plain": [
       "16"
      ]
     },
     "execution_count": 8,
     "metadata": {},
     "output_type": "execute_result"
    }
   ],
   "source": [
    "reduce(add2, [1, 5, 2, 6, 2])"
   ]
  },
  {
   "cell_type": "markdown",
   "metadata": {},
   "source": [
    "As with the `map` function, the `reduce` function ecapsulates a general paradigm of computation in the form of a higher-order function. In terms of the map-reduce paradigm, reducing will be used to produce a final answer after the mapping steps have been applied in parallel."
   ]
  },
  {
   "cell_type": "markdown",
   "metadata": {},
   "source": [
    "# Putting it together\n",
    "\n"
   ]
  },
  {
   "cell_type": "code",
   "execution_count": 9,
   "metadata": {
    "collapsed": true
   },
   "outputs": [],
   "source": [
    "def map_reduce(mapfn, reducefn, data, n):\n",
    "    \n",
    "    # step 1: divide data into n chunks\n",
    "    \n",
    "    size = len(data)\n",
    "    chunk_size = int(size / n + 1) # the \"+ 1\" rounds up\n",
    "    chunks = [words[k:(k + chunk_size)] for k in range(0, size, chunk_size)]\n",
    "    \n",
    "    # step 2: apply mapfn to each chunk\n",
    "\n",
    "    map_result = [map(mapfn, chunk) for chunk in chunks]\n",
    "    \n",
    "    # step 3: reduce the chunks into a single output value\n",
    "\n",
    "    accumulator = {}\n",
    "    for chunk in map_result:\n",
    "        reduce(reducefn, chunk, accumulator)\n",
    "    \n",
    "    return accumulator"
   ]
  },
  {
   "cell_type": "code",
   "execution_count": 10,
   "metadata": {
    "collapsed": true
   },
   "outputs": [],
   "source": [
    "def map_count(word):\n",
    "    return (word, 1)\n",
    "\n",
    "def reduce_count(accumulator, map_result):\n",
    "    word, n = map_result\n",
    "    word = word.lower()\n",
    "    \n",
    "    if word in accumulator:\n",
    "        accumulator[word] += n\n",
    "    else:\n",
    "        accumulator[word] = n\n",
    "            \n",
    "    return accumulator"
   ]
  },
  {
   "cell_type": "code",
   "execution_count": 11,
   "metadata": {
    "collapsed": false
   },
   "outputs": [
    {
     "data": {
      "text/plain": [
       "{'a': 7,\n",
       " 'above': 1,\n",
       " 'add': 1,\n",
       " 'advanced': 1,\n",
       " 'ago': 1,\n",
       " 'all': 1,\n",
       " 'altogether': 1,\n",
       " 'and': 5,\n",
       " 'any': 1,\n",
       " 'are': 3,\n",
       " 'as': 1,\n",
       " 'battlefield': 1,\n",
       " 'be': 2,\n",
       " 'before': 1,\n",
       " 'birth': 1,\n",
       " 'brave': 1,\n",
       " 'brought': 1,\n",
       " 'but': 2,\n",
       " 'by': 1,\n",
       " 'can': 5,\n",
       " 'cause': 1,\n",
       " 'civil': 1,\n",
       " 'come': 1,\n",
       " 'conceived': 2,\n",
       " 'consecrate': 1,\n",
       " 'consecrated': 1,\n",
       " 'continent': 1,\n",
       " 'created': 1,\n",
       " 'dead': 3,\n",
       " 'dedicate': 2,\n",
       " 'dedicated': 4,\n",
       " 'detract': 1,\n",
       " 'devotion': 1,\n",
       " 'devotionthat': 1,\n",
       " 'did': 1,\n",
       " 'died': 1,\n",
       " 'do': 1,\n",
       " 'earth': 1,\n",
       " 'endure': 1,\n",
       " 'engaged': 1,\n",
       " 'equal': 1,\n",
       " 'far': 2,\n",
       " 'fathers': 1,\n",
       " 'field': 1,\n",
       " 'final': 1,\n",
       " 'fitting': 1,\n",
       " 'for': 5,\n",
       " 'forget': 1,\n",
       " 'forth': 1,\n",
       " 'fought': 1,\n",
       " 'four': 1,\n",
       " 'freedomand': 1,\n",
       " 'from': 2,\n",
       " 'full': 1,\n",
       " 'gave': 2,\n",
       " 'god': 1,\n",
       " 'government': 1,\n",
       " 'great': 3,\n",
       " 'ground': 1,\n",
       " 'hallow': 1,\n",
       " 'have': 5,\n",
       " 'here': 8,\n",
       " 'highly': 1,\n",
       " 'honored': 1,\n",
       " 'in': 4,\n",
       " 'increased': 1,\n",
       " 'is': 3,\n",
       " 'it': 5,\n",
       " 'larger': 1,\n",
       " 'last': 1,\n",
       " 'liberty': 1,\n",
       " 'little': 1,\n",
       " 'live': 1,\n",
       " 'lives': 1,\n",
       " 'living': 2,\n",
       " 'long': 2,\n",
       " 'measure': 1,\n",
       " 'men': 2,\n",
       " 'met': 1,\n",
       " 'might': 1,\n",
       " 'nation': 5,\n",
       " 'never': 1,\n",
       " 'new': 2,\n",
       " 'nobly': 1,\n",
       " 'nor': 1,\n",
       " 'not': 5,\n",
       " 'note': 1,\n",
       " 'now': 1,\n",
       " 'of': 5,\n",
       " 'on': 2,\n",
       " 'or': 2,\n",
       " 'our': 2,\n",
       " 'people': 3,\n",
       " 'perish': 1,\n",
       " 'place': 1,\n",
       " 'poor': 1,\n",
       " 'portion': 1,\n",
       " 'power': 1,\n",
       " 'proper': 1,\n",
       " 'proposition': 1,\n",
       " 'rather': 2,\n",
       " 'remaining': 1,\n",
       " 'remember': 1,\n",
       " 'resolve': 1,\n",
       " 'resting': 1,\n",
       " 'say': 1,\n",
       " 'score': 1,\n",
       " 'sense': 1,\n",
       " 'seven': 1,\n",
       " 'shall': 3,\n",
       " 'should': 1,\n",
       " 'so': 3,\n",
       " 'struggled': 1,\n",
       " 'take': 1,\n",
       " 'task': 1,\n",
       " 'testing': 1,\n",
       " 'that': 10,\n",
       " 'the': 11,\n",
       " 'their': 1,\n",
       " 'these': 2,\n",
       " 'they': 3,\n",
       " 'this': 4,\n",
       " 'those': 1,\n",
       " 'thus': 1,\n",
       " 'to': 8,\n",
       " 'under': 1,\n",
       " 'unfinished': 1,\n",
       " 'us': 2,\n",
       " 'usthat': 1,\n",
       " 'vainthat': 1,\n",
       " 'war': 2,\n",
       " 'we': 10,\n",
       " 'what': 2,\n",
       " 'whether': 1,\n",
       " 'which': 2,\n",
       " 'who': 3,\n",
       " 'will': 1,\n",
       " 'work': 1,\n",
       " 'world': 1,\n",
       " 'years': 1}"
      ]
     },
     "execution_count": 11,
     "metadata": {},
     "output_type": "execute_result"
    }
   ],
   "source": [
    "address = \"\"\"\n",
    "    Four score and seven years ago our fathers brought forth on this continent a new nation, conceived in liberty, and dedicated to the proposition that all men are created equal.\n",
    "\n",
    "    Now we are engaged in a great civil war, testing whether that nation, or any nation so conceived and so dedicated, can long endure. We are met on a great battlefield of that war. We have come to dedicate a portion of that field, as a final resting place for those who here gave their lives that that nation might live. It is altogether fitting and proper that we should do this.\n",
    "\n",
    "    But, in a larger sense, we can not dedicate, we can not consecrate, we can not hallow this ground. The brave men, living and dead, who struggled here, have consecrated it, far above our poor power to add or detract. The world will little note, nor long remember what we say here, but it can never forget what they did here. It is for us the living, rather, to be dedicated here to the unfinished work which they who fought here have thus far so nobly advanced. It is rather for us to be here dedicated to the great task remaining before us—that from these honored dead we take increased devotion to that cause for which they gave the last full measure of devotion—that we here highly resolve that these dead shall not have died in vain—that this nation, under God, shall have a new birth of freedom—and that government of the people, by the people, for the people, shall not perish from the earth.\"\"\"\n",
    "\n",
    "import re\n",
    "address_nopunct = re.sub(\"[^\\w\\s]\", \"\", address)\n",
    "words = address_nopunct.split()\n",
    "\n",
    "map_reduce(map_count, reduce_count, words, 4)"
   ]
  },
  {
   "cell_type": "code",
   "execution_count": null,
   "metadata": {
    "collapsed": true
   },
   "outputs": [],
   "source": []
  }
 ],
 "metadata": {
  "kernelspec": {
   "display_name": "Python 2",
   "language": "python",
   "name": "python2"
  },
  "language_info": {
   "codemirror_mode": {
    "name": "ipython",
    "version": 2
   },
   "file_extension": ".py",
   "mimetype": "text/x-python",
   "name": "python",
   "nbconvert_exporter": "python",
   "pygments_lexer": "ipython2",
   "version": "2.7.13"
  }
 },
 "nbformat": 4,
 "nbformat_minor": 0
}
