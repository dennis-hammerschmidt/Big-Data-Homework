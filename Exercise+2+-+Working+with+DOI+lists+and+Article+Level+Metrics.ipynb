{
 "cells": [
  {
   "cell_type": "markdown",
   "metadata": {},
   "source": [
    "# Exercise 2 - Working with DOI lists and Article Level Metrics"
   ]
  },
  {
   "cell_type": "markdown",
   "metadata": {},
   "source": [
    "In this exercise, we will cover how to collect DOIs and Article Level Metrics(ALM) through API as well as some related analysis."
   ]
  },
  {
   "cell_type": "markdown",
   "metadata": {},
   "source": [
    "## Table of Contents\n",
    "\n",
    "- [Part A: Collecting DOIs](#Part-A:-Collecting-DOIs)\n",
    "- [Part B: Collecting and analysing ALM Data](#Part-B:-Collecting-and-analysing-ALM-Data)"
   ]
  },
  {
   "cell_type": "markdown",
   "metadata": {},
   "source": [
    "Load the required packages before the start of the exercise."
   ]
  },
  {
   "cell_type": "code",
   "execution_count": 2,
   "metadata": {
    "collapsed": false
   },
   "outputs": [
    {
     "name": "stdout",
     "output_type": "stream",
     "text": [
      "The autoreload extension is already loaded. To reload it, use:\n",
      "  %reload_ext autoreload\n"
     ]
    }
   ],
   "source": [
    "%load_ext autoreload\n",
    "%autoreload 2\n",
    "\n",
    "import os\n",
    "#os.environ['PLOS_API_KEY'] = 'user api key'\n",
    "\n",
    "import sys\n",
    "sys.path.append(\"/Users/dennis_hammerschmidt/Desktop/Uni/M.A. Political Science/5. Semester/Big Data and Social Sciences/Big-Data-Workbooks-master/04. Social Media and APIs/modules/orcid-python\")\n",
    "sys.path.append(\"/Users/dennis_hammerschmidt/Desktop/Uni/M.A. Political Science/5. Semester/Big Data and Social Sciences/Big-Data-Workbooks-master/04. Social Media and APIs/modules/pyalm\")\n",
    "\n",
    "\n",
    "import requests\n",
    "import time\n",
    "import orcid\n",
    "import pyalm.pyalm as pyalm\n",
    "sys.path.append(\"/Users/dennis_hammerschmidt/Desktop/Uni/M.A. Political Science/5. Semester/Big Data and Social Sciences/Big-Data-Workbooks-master/04. Social Media and APIs/modules/pyalm/pyalm\")\n",
    "import utilities.plossearch as search\n"
   ]
  },
  {
   "cell_type": "markdown",
   "metadata": {},
   "source": [
    "## Part A: Collecting DOIs\n",
    "\n",
    "Back to [Table of Contents](#Table-of-Contents).\n",
    "\n",
    "The first part this exercise will show collecting DOIs from a different source, a publisher API. Here we are using the PLOS Search API as an example because the PLOS Lagotto instance has the most information on article level metrics as discussed in the class.\n",
    "\n",
    "We will first show an example of using the provided API wrapper and then you will use this to gather Article Level Metrics information on some authors from Caltech."
   ]
  },
  {
   "cell_type": "code",
   "execution_count": 3,
   "metadata": {
    "collapsed": false
   },
   "outputs": [
    {
     "data": {
      "text/plain": [
       "{u'response': {u'docs': [{u'doi': [u'10.1371/journal.pone.0035934']},\n",
       "   {u'doi': [u'10.1371/journal.pbio.1000444']},\n",
       "   {u'doi': [u'10.1371/journal.pone.0022201']},\n",
       "   {u'doi': [u'10.1371/journal.pone.0008793']},\n",
       "   {u'doi': [u'10.1371/journal.pone.0007757']},\n",
       "   {u'doi': [u'10.1371/journal.pone.0148469']},\n",
       "   {u'doi': [u'10.1371/journal.pcbi.1000349']},\n",
       "   {u'doi': [u'10.1371/journal.pbio.1001153']},\n",
       "   {u'doi': [u'10.1371/journal.pone.0026543']},\n",
       "   {u'doi': [u'10.1371/journal.pone.0012353']},\n",
       "   {u'doi': [u'10.1371/journal.pcbi.1004734']},\n",
       "   {u'doi': [u'10.1371/journal.pone.0046473']},\n",
       "   {u'doi': [u'10.1371/journal.ppat.1001225']},\n",
       "   {u'doi': [u'10.1371/journal.pone.0029172']},\n",
       "   {u'doi': [u'10.1371/journal.pone.0000787']},\n",
       "   {u'doi': [u'10.1371/journal.pone.0000749']},\n",
       "   {u'doi': [u'10.1371/journal.pgen.0020117']},\n",
       "   {u'doi': [u'10.1371/journal.pone.0021074']},\n",
       "   {u'doi': [u'10.1371/journal.pbio.0040112']},\n",
       "   {u'doi': [u'10.1371/journal.pone.0133682']},\n",
       "   {u'doi': [u'10.1371/journal.pone.0128944']},\n",
       "   {u'doi': [u'10.1371/journal.ppat.1000908']},\n",
       "   {u'doi': [u'10.1371/journal.pone.0074513']},\n",
       "   {u'doi': [u'10.1371/journal.pcbi.1002811']},\n",
       "   {u'doi': [u'10.1371/journal.pbio.1000202']},\n",
       "   {u'doi': [u'10.1371/journal.pone.0130582']},\n",
       "   {u'doi': [u'10.1371/journal.pcbi.1000675']},\n",
       "   {u'doi': [u'10.1371/journal.pcbi.1000354']},\n",
       "   {u'doi': [u'10.1371/journal.ppat.1003961']},\n",
       "   {u'doi': [u'10.1371/journal.pone.0045301']},\n",
       "   {u'doi': [u'10.1371/journal.pone.0015429']},\n",
       "   {u'doi': [u'10.1371/journal.pbio.0040233']},\n",
       "   {u'doi': [u'10.1371/journal.pbio.0020424']},\n",
       "   {u'doi': [u'10.1371/journal.pgen.0030069']},\n",
       "   {u'doi': [u'10.1371/journal.pone.0033077']},\n",
       "   {u'doi': [u'10.1371/journal.pone.0029822']},\n",
       "   {u'doi': [u'10.1371/journal.pone.0003190']},\n",
       "   {u'doi': [u'10.1371/journal.pone.0020230']},\n",
       "   {u'doi': [u'10.1371/journal.pbio.1002137']},\n",
       "   {u'doi': [u'10.1371/journal.pone.0041794']},\n",
       "   {u'doi': [u'10.1371/journal.pbio.0020309']},\n",
       "   {u'doi': [u'10.1371/journal.pone.0105626']},\n",
       "   {u'doi': [u'10.1371/journal.pcbi.1002713']},\n",
       "   {u'doi': [u'10.1371/journal.pone.0018377']},\n",
       "   {u'doi': [u'10.1371/journal.pone.0004883']},\n",
       "   {u'doi': [u'10.1371/journal.pcbi.1000363']},\n",
       "   {u'doi': [u'10.1371/journal.pone.0019316']},\n",
       "   {u'doi': [u'10.1371/journal.pbio.1001272']},\n",
       "   {u'doi': [u'10.1371/journal.pone.0016791']},\n",
       "   {u'doi': [u'10.1371/journal.pone.0043302']},\n",
       "   {u'doi': [u'10.1371/journal.pcbi.1005427']},\n",
       "   {u'doi': [u'10.1371/journal.pcbi.1005089']},\n",
       "   {u'doi': [u'10.1371/journal.pcbi.1003106']},\n",
       "   {u'doi': [u'10.1371/journal.pone.0163060']},\n",
       "   {u'doi': [u'10.1371/journal.pone.0158032']},\n",
       "   {u'doi': [u'10.1371/journal.pcbi.0020169']},\n",
       "   {u'doi': [u'10.1371/journal.pone.0147700']},\n",
       "   {u'doi': [u'10.1371/journal.pcbi.1003844']},\n",
       "   {u'doi': [u'10.1371/journal.pone.0087122']},\n",
       "   {u'doi': [u'10.1371/journal.pcbi.1002431']},\n",
       "   {u'doi': [u'10.1371/journal.pcbi.1002891']},\n",
       "   {u'doi': [u'10.1371/journal.pone.0084455']},\n",
       "   {u'doi': [u'10.1371/journal.pbio.1000246']},\n",
       "   {u'doi': [u'10.1371/journal.pone.0026127']},\n",
       "   {u'doi': [u'10.1371/journal.pone.0103369']},\n",
       "   {u'doi': [u'10.1371/journal.pcbi.1002069']},\n",
       "   {u'doi': [u'10.1371/journal.pone.0017833']},\n",
       "   {u'doi': [u'10.1371/journal.pone.0052463']},\n",
       "   {u'doi': [u'10.1371/journal.pone.0023106']},\n",
       "   {u'doi': [u'10.1371/journal.pone.0005621']},\n",
       "   {u'doi': [u'10.1371/journal.pcbi.0030081']},\n",
       "   {u'doi': [u'10.1371/journal.pone.0028080']},\n",
       "   {u'doi': [u'10.1371/journal.pbio.0030257']},\n",
       "   {u'doi': [u'10.1371/journal.pbio.0020002']},\n",
       "   {u'doi': [u'10.1371/journal.pone.0133489']},\n",
       "   {u'doi': [u'10.1371/journal.pone.0041161']},\n",
       "   {u'doi': [u'10.1371/journal.pcbi.1002895']},\n",
       "   {u'doi': [u'10.1371/journal.pgen.1003142']},\n",
       "   {u'doi': [u'10.1371/journal.pone.0084713']},\n",
       "   {u'doi': [u'10.1371/journal.pone.0050438']},\n",
       "   {u'doi': [u'10.1371/journal.pgen.1006572']},\n",
       "   {u'doi': [u'10.1371/journal.pone.0016838']},\n",
       "   {u'doi': [u'10.1371/journal.pcbi.1001048']},\n",
       "   {u'doi': [u'10.1371/journal.pbio.0040267']},\n",
       "   {u'doi': [u'10.1371/journal.pone.0067952']},\n",
       "   {u'doi': [u'10.1371/journal.pone.0119938']},\n",
       "   {u'doi': [u'10.1371/journal.pone.0013890']},\n",
       "   {u'doi': [u'10.1371/journal.pbio.0000051']},\n",
       "   {u'doi': [u'10.1371/journal.pbio.1000367']},\n",
       "   {u'doi': [u'10.1371/journal.pcbi.1004264']},\n",
       "   {u'doi': [u'10.1371/journal.pone.0026204']},\n",
       "   {u'doi': [u'10.1371/journal.pone.0076224']},\n",
       "   {u'doi': [u'10.1371/journal.pone.0075799']},\n",
       "   {u'doi': [u'10.1371/journal.pone.0114347']},\n",
       "   {u'doi': [u'10.1371/journal.pcbi.1001100']},\n",
       "   {u'doi': [u'10.1371/journal.pone.0001497']},\n",
       "   {u'doi': [u'10.1371/journal.pone.0123331']},\n",
       "   {u'doi': [u'10.1371/journal.pone.0005768']},\n",
       "   {u'doi': [u'10.1371/journal.pone.0085492']},\n",
       "   {u'doi': [u'10.1371/journal.pone.0018086']},\n",
       "   {u'doi': [u'10.1371/journal.pone.0143161']},\n",
       "   {u'doi': [u'10.1371/journal.pone.0043351']},\n",
       "   {u'doi': [u'10.1371/journal.pcbi.1003055']},\n",
       "   {u'doi': [u'10.1371/journal.pone.0034464']},\n",
       "   {u'doi': [u'10.1371/journal.pone.0161260']},\n",
       "   {u'doi': [u'10.1371/journal.pone.0012903']},\n",
       "   {u'doi': [u'10.1371/journal.pone.0037992']},\n",
       "   {u'doi': [u'10.1371/journal.pone.0142767']},\n",
       "   {u'doi': [u'10.1371/journal.pbio.1001213']},\n",
       "   {u'doi': [u'10.1371/journal.pone.0012288']},\n",
       "   {u'doi': [u'10.1371/journal.pcbi.1004104']},\n",
       "   {u'doi': [u'10.1371/journal.pcbi.1004090']},\n",
       "   {u'doi': [u'10.1371/journal.pone.0032888']},\n",
       "   {u'doi': [u'10.1371/journal.pbio.0060173']},\n",
       "   {u'doi': [u'10.1371/journal.pbio.0020429']},\n",
       "   {u'doi': [u'10.1371/journal.pone.0157331']},\n",
       "   {u'doi': [u'10.1371/journal.pone.0012009']},\n",
       "   {u'doi': [u'10.1371/journal.pbio.0040148']},\n",
       "   {u'doi': [u'10.1371/journal.pone.0020725']},\n",
       "   {u'doi': [u'10.1371/journal.pcbi.1002607']},\n",
       "   {u'doi': [u'10.1371/journal.pcbi.1002918']},\n",
       "   {u'doi': [u'10.1371/journal.pone.0072751']},\n",
       "   {u'doi': [u'10.1371/journal.pone.0025102']},\n",
       "   {u'doi': [u'10.1371/journal.pone.0089712']},\n",
       "   {u'doi': [u'10.1371/journal.pcbi.1004039']},\n",
       "   {u'doi': [u'10.1371/journal.ppat.1003899']},\n",
       "   {u'doi': [u'10.1371/journal.pone.0122869']},\n",
       "   {u'doi': [u'10.1371/journal.pone.0136716']},\n",
       "   {u'doi': [u'10.1371/journal.pone.0175744']},\n",
       "   {u'doi': [u'10.1371/journal.pone.0011663']},\n",
       "   {u'doi': [u'10.1371/journal.pone.0078726']},\n",
       "   {u'doi': [u'10.1371/journal.pcbi.1004402']},\n",
       "   {u'doi': [u'10.1371/journal.pone.0005344']},\n",
       "   {u'doi': [u'10.1371/journal.pone.0005496']},\n",
       "   {u'doi': [u'10.1371/journal.pone.0150950']},\n",
       "   {u'doi': [u'10.1371/journal.pone.0003610']},\n",
       "   {u'doi': [u'10.1371/journal.pbio.1000516']},\n",
       "   {u'doi': [u'10.1371/journal.pbio.1002042']},\n",
       "   {u'doi': [u'10.1371/journal.pone.0123329']},\n",
       "   {u'doi': [u'10.1371/journal.pbio.0040120']},\n",
       "   {u'doi': [u'10.1371/journal.pone.0126754']},\n",
       "   {u'doi': [u'10.1371/journal.pone.0047952']},\n",
       "   {u'doi': [u'10.1371/journal.pone.0060841']},\n",
       "   {u'doi': [u'10.1371/journal.pcbi.1002774']},\n",
       "   {u'doi': [u'10.1371/journal.pgen.1000460']},\n",
       "   {u'doi': [u'10.1371/journal.pone.0050644']},\n",
       "   {u'doi': [u'10.1371/journal.pone.0010640']},\n",
       "   {u'doi': [u'10.1371/journal.pcbi.1000291']},\n",
       "   {u'doi': [u'10.1371/journal.pone.0123839']},\n",
       "   {u'doi': [u'10.1371/journal.pbio.1001252']},\n",
       "   {u'doi': [u'10.1371/journal.pbio.1001306']},\n",
       "   {u'doi': [u'10.1371/journal.pone.0003478']},\n",
       "   {u'doi': [u'10.1371/journal.pone.0000090']},\n",
       "   {u'doi': [u'10.1371/journal.pone.0012674']},\n",
       "   {u'doi': [u'10.1371/journal.pone.0102694']},\n",
       "   {u'doi': [u'10.1371/journal.pcbi.1005055']},\n",
       "   {u'doi': [u'10.1371/journal.pcbi.1004805']},\n",
       "   {u'doi': [u'10.1371/journal.pcbi.1004196']},\n",
       "   {u'doi': [u'10.1371/journal.pcbi.1003111']},\n",
       "   {u'doi': [u'10.1371/journal.ppat.1004212']},\n",
       "   {u'doi': [u'10.1371/journal.pcbi.1001128']},\n",
       "   {u'doi': [u'10.1371/journal.pone.0085872']},\n",
       "   {u'doi': [u'10.1371/journal.pcbi.1000545']},\n",
       "   {u'doi': [u'10.1371/journal.pone.0005782']},\n",
       "   {u'doi': [u'10.1371/journal.pone.0122957']},\n",
       "   {u'doi': [u'10.1371/journal.pone.0122905']},\n",
       "   {u'doi': [u'10.1371/journal.pone.0001676']},\n",
       "   {u'doi': [u'10.1371/journal.pone.0054971']},\n",
       "   {u'doi': [u'10.1371/journal.pone.0001437']},\n",
       "   {u'doi': [u'10.1371/journal.pgen.1003195']},\n",
       "   {u'doi': [u'10.1371/journal.pgen.0010061']},\n",
       "   {u'doi': [u'10.1371/journal.pcbi.1004558']},\n",
       "   {u'doi': [u'10.1371/journal.pone.0041040']},\n",
       "   {u'doi': [u'10.1371/journal.pone.0000943']},\n",
       "   {u'doi': [u'10.1371/journal.pone.0066012']},\n",
       "   {u'doi': [u'10.1371/journal.pone.0117854']},\n",
       "   {u'doi': [u'10.1371/journal.pone.0009954']},\n",
       "   {u'doi': [u'10.1371/journal.pcbi.0020153']},\n",
       "   {u'doi': [u'10.1371/journal.pcbi.0030020']},\n",
       "   {u'doi': [u'10.1371/journal.pone.0016676']},\n",
       "   {u'doi': [u'10.1371/journal.pone.0004503']},\n",
       "   {u'doi': [u'10.1371/journal.pone.0004338']},\n",
       "   {u'doi': [u'10.1371/journal.pone.0017804']},\n",
       "   {u'doi': [u'10.1371/journal.pone.0008015']},\n",
       "   {u'doi': [u'10.1371/journal.pone.0127227']},\n",
       "   {u'doi': [u'10.1371/journal.pcbi.1002841']},\n",
       "   {u'doi': [u'10.1371/journal.pgen.1003079']},\n",
       "   {u'doi': [u'10.1371/journal.pone.0057516']},\n",
       "   {u'doi': [u'10.1371/journal.pone.0057597']},\n",
       "   {u'doi': [u'10.1371/journal.pone.0124159']},\n",
       "   {u'doi': [u'10.1371/journal.pone.0018224']},\n",
       "   {u'doi': [u'10.1371/journal.pone.0004901']},\n",
       "   {u'doi': [u'10.1371/journal.pone.0137367']},\n",
       "   {u'doi': [u'10.1371/journal.pbio.1000167']},\n",
       "   {u'doi': [u'10.1371/journal.pgen.1002443']},\n",
       "   {u'doi': [u'10.1371/journal.pgen.1002528']},\n",
       "   {u'doi': [u'10.1371/journal.pone.0011506']},\n",
       "   {u'doi': [u'10.1371/journal.pone.0103024']},\n",
       "   {u'doi': [u'10.1371/journal.pcbi.1001066']},\n",
       "   {u'doi': [u'10.1371/journal.pcbi.1000268']},\n",
       "   {u'doi': [u'10.1371/journal.pone.0004559']},\n",
       "   {u'doi': [u'10.1371/journal.pone.0017013']},\n",
       "   {u'doi': [u'10.1371/journal.pone.0095990']},\n",
       "   {u'doi': [u'10.1371/journal.pbio.1001237']},\n",
       "   {u'doi': [u'10.1371/journal.pone.0008573']},\n",
       "   {u'doi': [u'10.1371/journal.pcbi.1003475']},\n",
       "   {u'doi': [u'10.1371/journal.pone.0008228']},\n",
       "   {u'doi': [u'10.1371/journal.pone.0028922']},\n",
       "   {u'doi': [u'10.1371/journal.pone.0161256']},\n",
       "   {u'doi': [u'10.1371/journal.pone.0001923']},\n",
       "   {u'doi': [u'10.1371/journal.pone.0001295']},\n",
       "   {u'doi': [u'10.1371/journal.pone.0001253']},\n",
       "   {u'doi': [u'10.1371/journal.pone.0067702']},\n",
       "   {u'doi': [u'10.1371/journal.pbio.0020015']},\n",
       "   {u'doi': [u'10.1371/journal.ppat.1005294']},\n",
       "   {u'doi': [u'10.1371/journal.ppat.1005203']},\n",
       "   {u'doi': [u'10.1371/journal.pone.0149961']},\n",
       "   {u'doi': [u'10.1371/journal.ppat.1004495']},\n",
       "   {u'doi': [u'10.1371/journal.pone.0048909']},\n",
       "   {u'doi': [u'10.1371/journal.pone.0017441']},\n",
       "   {u'doi': [u'10.1371/journal.pntd.0000684']},\n",
       "   {u'doi': [u'10.1371/journal.ppat.1003106']},\n",
       "   {u'doi': [u'10.1371/journal.pone.0112762']},\n",
       "   {u'doi': [u'10.1371/journal.pone.0007173']},\n",
       "   {u'doi': [u'10.1371/journal.pntd.0000246']},\n",
       "   {u'doi': [u'10.1371/journal.pbio.2000197']},\n",
       "   {u'doi': [u'10.1371/journal.pmed.0020355']},\n",
       "   {u'doi': [u'10.1371/journal.pone.0145205']},\n",
       "   {u'doi': [u'10.1371/journal.ppat.1002527']},\n",
       "   {u'doi': [u'10.1371/journal.pcbi.1003542']},\n",
       "   {u'doi': [u'10.1371/journal.pone.0151859']},\n",
       "   {u'doi': [u'10.1371/journal.pbio.0050301']},\n",
       "   {u'doi': [u'10.1371/journal.pone.0002150']},\n",
       "   {u'doi': [u'10.1371/journal.pone.0147485']},\n",
       "   {u'doi': [u'10.1371/journal.pone.0014360']},\n",
       "   {u'doi': [u'10.1371/journal.pone.0024925']},\n",
       "   {u'doi': [u'10.1371/journal.ppat.1005238']},\n",
       "   {u'doi': [u'10.1371/journal.pone.0069618']},\n",
       "   {u'doi': [u'10.1371/journal.pcbi.1002236']},\n",
       "   {u'doi': [u'10.1371/journal.pcbi.1002202']},\n",
       "   {u'doi': [u'10.1371/journal.pcbi.0020059']},\n",
       "   {u'doi': [u'10.1371/journal.pone.0068300']},\n",
       "   {u'doi': [u'10.1371/journal.pone.0149102']},\n",
       "   {u'doi': [u'10.1371/journal.pone.0111333']},\n",
       "   {u'doi': [u'10.1371/journal.pone.0026727']},\n",
       "   {u'doi': [u'10.1371/journal.pone.0000928']},\n",
       "   {u'doi': [u'10.1371/journal.pcbi.1000334']},\n",
       "   {u'doi': [u'10.1371/journal.pcbi.1001122']},\n",
       "   {u'doi': [u'10.1371/journal.pgen.1004261']}],\n",
       "  u'numFound': 249,\n",
       "  u'start': 0}}"
      ]
     },
     "execution_count": 3,
     "metadata": {},
     "output_type": "execute_result"
    }
   ],
   "source": [
    "# Initiate and populate a query object\n",
    "query = search.Request('author_affiliate:\"California Institute of Technology\"')\n",
    "\n",
    "# Initiate the actual API call and get some results\n",
    "response = query.get()\n",
    "response"
   ]
  },
  {
   "cell_type": "markdown",
   "metadata": {},
   "source": [
    "This gives 220 DOI's found at PLOS which match the affiliation term \"California Institute of Technology\". You might want to change the search term to see if there are other articles, perhaps listed under Caltech or other variations of the name.\n",
    "\n",
    "This search matches the terms that you will find in the Advanced Search functionality on the PLOS website: http://www.plosone.org/search/advanced?noSearchFlag so you can use that search form to construct a more advanced search and then use it with the function above. For instance a more complex search for Caltech might look like this:"
   ]
  },
  {
   "cell_type": "code",
   "execution_count": 4,
   "metadata": {
    "collapsed": false,
    "nbgrader": {
     "grade": false,
     "locked": false,
     "solution": false
    }
   },
   "outputs": [
    {
     "data": {
      "text/plain": [
       "253"
      ]
     },
     "execution_count": 4,
     "metadata": {},
     "output_type": "execute_result"
    }
   ],
   "source": [
    "# Initiate and populate a query object\n",
    "query = search.Request(\"\"\"\n",
    "    author_affiliate:\"California Institute of Technology\"\n",
    "    OR\n",
    "    author_affiliate:\"Caltech\"\n",
    "                       \"\"\")\n",
    "\n",
    "# Initiate the actual API call and get some results\n",
    "caltech = query.get()\n",
    "\n",
    "# Count the number of documents returned.\n",
    "len( caltech['response']['docs'] )"
   ]
  },
  {
   "cell_type": "markdown",
   "metadata": {
    "collapsed": true
   },
   "source": [
    "<div class=\"alert alert-success\">\n",
    "Construct a search that looks for papers by either authors Martin Karplus, Robert Grubbs or Eric Betzig.  Store the results of your call to `query.get()` in a variable named `response`.  Your query should retrieve two articles.  \n",
    "</div>"
   ]
  },
  {
   "cell_type": "code",
   "execution_count": 5,
   "metadata": {
    "collapsed": false,
    "nbgrader": {
     "grade": false,
     "grade_id": "A-search-BGK",
     "locked": false,
     "solution": true
    }
   },
   "outputs": [
    {
     "name": "stdout",
     "output_type": "stream",
     "text": [
      "Document count: 2\n",
      "Result: [{u'doi': [u'10.1371/journal.pbio.1000137']}, {u'doi': [u'10.1371/journal.pbio.0040144']}]\n"
     ]
    }
   ],
   "source": [
    "### BEGIN SOLUTION\n",
    "\n",
    "# Initiate and populate a query object\n",
    "query = search.Request(\"\"\"\n",
    "    author:\"Eric Betzig\"\n",
    "    OR\n",
    "    author:\"Robert Grubbs\"\n",
    "    OR\n",
    "    author:\"Martin Karplus\"\n",
    "                       \"\"\")\n",
    "\n",
    "# Initiate the actual API call and get some results\n",
    "response = query.get()\n",
    "\n",
    "### END SOLUTION\n",
    "\n",
    "# Count documents returned.\n",
    "print( \"Document count: \" + str( len( response['response']['docs'] ) ) )\n",
    "\n",
    "# Output documents returned.\n",
    "print( \"Result: \" + str( response['response']['docs'] ) )"
   ]
  },
  {
   "cell_type": "code",
   "execution_count": 6,
   "metadata": {
    "collapsed": false,
    "nbgrader": {
     "grade": true,
     "grade_id": "A-search-BGK-test-len",
     "locked": true,
     "points": 1,
     "solution": false
    }
   },
   "outputs": [],
   "source": [
    "# test - should be two documents.\n",
    "assert len( response['response']['docs'] ) == 2"
   ]
  },
  {
   "cell_type": "code",
   "execution_count": 7,
   "metadata": {
    "collapsed": false,
    "nbgrader": {
     "grade": true,
     "grade_id": "A-search-BGK-test-DOI",
     "locked": true,
     "points": 1,
     "solution": false
    }
   },
   "outputs": [],
   "source": [
    "# could also check the DOIs of the two items.\n",
    "doi_list = []\n",
    "for current_item in response['response']['docs']:\n",
    "    \n",
    "    current_doi = current_item[ 'doi' ]\n",
    "    doi_list.append( current_doi )\n",
    "    \n",
    "#-- END loop over documents. --#\n",
    "\n",
    "# get DOI 1 and 2\n",
    "doi_1 = doi_list[ 0 ][ 0 ]\n",
    "doi_2 = doi_list[ 1 ][ 0 ]\n",
    "\n",
    "# are they right?\n",
    "assert doi_1.lower() == '10.1371/journal.pbio.1000137'\n",
    "assert doi_2.lower() == '10.1371/journal.pbio.0040144'"
   ]
  },
  {
   "cell_type": "markdown",
   "metadata": {},
   "source": [
    "## Part B: Collecting and analysing ALM Data\n",
    "\n",
    "Back to [Table of Contents](#Table-of-Contents)."
   ]
  },
  {
   "cell_type": "markdown",
   "metadata": {},
   "source": [
    "<div class=\"alert alert-success\">\n",
    "Based on the example notebooks obtain Article Level Metrics data on these two articles from the PLOS ALM API (`pyalm`). Note that the ALM API wrapper can accept a list of DOIs as well as a single DOI. You will need to construct a list of the two DOIs to pass to the `pyalm.get_alm` function (stored in the variable `dois`).  Then, obtain the number of EuropePubmedCentral citations for all the articles.\n",
    "</div>"
   ]
  },
  {
   "cell_type": "code",
   "execution_count": 8,
   "metadata": {
    "collapsed": false
   },
   "outputs": [],
   "source": [
    "# Need to configure the API URL as per the notebook example\n",
    "pyalm.config.APIS = { \n",
    "    'plos' : {'url': 'http://alm.plos.org/api/v5/articles'},\n",
    "    'det'  : {'url' : 'http://det.labs.crossref.org/api/v5/articles'}\n",
    "}"
   ]
  },
  {
   "cell_type": "code",
   "execution_count": 9,
   "metadata": {
    "collapsed": false,
    "nbgrader": {
     "grade": false,
     "grade_id": "B-ALM-doi_list",
     "locked": false,
     "solution": true
    }
   },
   "outputs": [
    {
     "name": "stdout",
     "output_type": "stream",
     "text": [
      "Found 2 DOIs: [u'10.1371/journal.pbio.1000137', u'10.1371/journal.pbio.0040144']\n"
     ]
    }
   ],
   "source": [
    "# Make a list of the DOI values present in the response from part A.\n",
    "dois = []\n",
    "\n",
    "### BEGIN SOLUTION\n",
    "\n",
    "# traditional list creation\n",
    "for current_item in response['response']['docs']:\n",
    "    \n",
    "    current_doi = current_item[ 'doi' ][ 0 ]\n",
    "    dois.append( current_doi )\n",
    "    \n",
    "#-- END loop over documents. --#\n",
    "\n",
    "# OR - list comprehension\n",
    "#dois = [ doc.get('doi')[0] for doc in response.get('response').get('docs') ]\n",
    "\n",
    "### END SOLUTION\n",
    "\n",
    "print( \"Found \" + str( len( dois ) ) + \" DOIs: \" + str( dois ) )"
   ]
  },
  {
   "cell_type": "code",
   "execution_count": 10,
   "metadata": {
    "collapsed": true,
    "nbgrader": {
     "grade": true,
     "grade_id": "B-ALM-doi_list-test_len",
     "locked": true,
     "points": 1,
     "solution": false
    }
   },
   "outputs": [],
   "source": [
    "# test - should be two DOIs\n",
    "assert len( dois ) == 2"
   ]
  },
  {
   "cell_type": "code",
   "execution_count": 11,
   "metadata": {
    "collapsed": true,
    "nbgrader": {
     "grade": true,
     "grade_id": "B-ALM-doi_list-test_values",
     "locked": true,
     "points": 1,
     "solution": false
    }
   },
   "outputs": [],
   "source": [
    "# test - get DOI 1 and 2\n",
    "doi_1 = dois[ 0 ]\n",
    "doi_2 = dois[ 1 ]\n",
    "\n",
    "# are they what we expect?\n",
    "assert doi_1.lower() == '10.1371/journal.pbio.1000137'\n",
    "assert doi_2.lower() == '10.1371/journal.pbio.0040144'"
   ]
  },
  {
   "cell_type": "code",
   "execution_count": 12,
   "metadata": {
    "collapsed": false,
    "nbgrader": {
     "grade": false,
     "grade_id": "B-ALM-get_data",
     "locked": false,
     "solution": true
    }
   },
   "outputs": [
    {
     "name": "stdout",
     "output_type": "stream",
     "text": [
      "{'articles': [<ArticleALM Self-Organization of the <i>Escherichia coli</i> Chemotaxis Network Imaged with Super-Resolution Light Microscopy, DOI 10.1371/journal.pbio.1000137>, <ArticleALM A Src-Like Inactive Conformation in the Abl Tyrosine Kinase Domain, DOI 10.1371/journal.pbio.0040144>], 'meta': {u'total': 2, u'total_pages': 1, u'page': 1, u'error': None}}\n"
     ]
    }
   ],
   "source": [
    "# Use the pyalm.get_alm() method to retrieve PLOS Article Level Metrics for the\n",
    "#    two articles.  Store the results in a variable named \"plos_alm\".\n",
    "\n",
    "### BEGIN SOLUTION\n",
    "plos_alm = pyalm.get_alm(dois, info='detail', instance='plos')\n",
    "### END SOLUTION\n",
    "\n",
    "print( plos_alm )"
   ]
  },
  {
   "cell_type": "code",
   "execution_count": 13,
   "metadata": {
    "collapsed": true,
    "nbgrader": {
     "grade": true,
     "grade_id": "B-ALM-get_data-test",
     "locked": true,
     "points": 1,
     "solution": false
    }
   },
   "outputs": [],
   "source": [
    "# test - should be a dictionary\n",
    "assert type( plos_alm ) == dict # should be dict"
   ]
  },
  {
   "cell_type": "code",
   "execution_count": 14,
   "metadata": {
    "collapsed": false,
    "nbgrader": {
     "grade": false,
     "grade_id": "B-ALM-EuPMC-cites",
     "locked": false,
     "solution": true
    }
   },
   "outputs": [
    {
     "name": "stdout",
     "output_type": "stream",
     "text": [
      "cites per article: [(u'Self-Organization of the <i>Escherichia coli</i> Chemotaxis Network Imaged with Super-Resolution Light Microscopy', 115), (u'A Src-Like Inactive Conformation in the Abl Tyrosine Kinase Domain', 98)]\n"
     ]
    }
   ],
   "source": [
    "# From the PLOS ALM data, get the title and number of EuPMC citations for\n",
    "#    each article - create a list of tuples called \"cites\" as follows:\n",
    "#    [('title1', citations), ('title2', citations)]\n",
    "\n",
    "cites = []\n",
    "\n",
    "### BEGIN SOLUTION\n",
    "\n",
    "for article in plos_alm['articles']:\n",
    "\n",
    "    cites.append( ( article.title, article.sources['pmceurope'].metrics.total ) )\n",
    "    \n",
    "### END SOLUTION\n",
    "\n",
    "# print out cites\n",
    "print( \"cites per article: \" + str( cites ) )"
   ]
  },
  {
   "cell_type": "code",
   "execution_count": 15,
   "metadata": {
    "collapsed": false,
    "nbgrader": {
     "grade": true,
     "grade_id": "B-ALM-EuPMC-cites-test",
     "locked": true,
     "points": 1,
     "solution": false
    }
   },
   "outputs": [
    {
     "ename": "AssertionError",
     "evalue": "",
     "output_type": "error",
     "traceback": [
      "\u001b[0;31m---------------------------------------------------------------------------\u001b[0m",
      "\u001b[0;31mAssertionError\u001b[0m                            Traceback (most recent call last)",
      "\u001b[0;32m<ipython-input-15-4cb25f076397>\u001b[0m in \u001b[0;36m<module>\u001b[0;34m()\u001b[0m\n\u001b[1;32m      1\u001b[0m \u001b[0;31m# test - see if cites is as we expect it to be.\u001b[0m\u001b[0;34m\u001b[0m\u001b[0;34m\u001b[0m\u001b[0m\n\u001b[0;32m----> 2\u001b[0;31m \u001b[0;32massert\u001b[0m \u001b[0mcites\u001b[0m\u001b[0;34m[\u001b[0m\u001b[0;36m0\u001b[0m\u001b[0;34m]\u001b[0m \u001b[0;34m==\u001b[0m \u001b[0;34m(\u001b[0m\u001b[0;34mu'Self-Organization of the <i>Escherichia coli</i> Chemotaxis Network Imaged with Super-Resolution Light Microscopy'\u001b[0m\u001b[0;34m,\u001b[0m \u001b[0;36m108\u001b[0m\u001b[0;34m)\u001b[0m\u001b[0;34m\u001b[0m\u001b[0m\n\u001b[0m\u001b[1;32m      3\u001b[0m \u001b[0;32massert\u001b[0m \u001b[0mcites\u001b[0m\u001b[0;34m[\u001b[0m\u001b[0;36m1\u001b[0m\u001b[0;34m]\u001b[0m \u001b[0;34m==\u001b[0m \u001b[0;34m(\u001b[0m\u001b[0;34mu'A Src-Like Inactive Conformation in the Abl Tyrosine Kinase Domain'\u001b[0m\u001b[0;34m,\u001b[0m \u001b[0;36m91\u001b[0m\u001b[0;34m)\u001b[0m\u001b[0;34m\u001b[0m\u001b[0m\n",
      "\u001b[0;31mAssertionError\u001b[0m: "
     ]
    }
   ],
   "source": [
    "# test - see if cites is as we expect it to be.\n",
    "assert cites[0] == (u'Self-Organization of the <i>Escherichia coli</i> Chemotaxis Network Imaged with Super-Resolution Light Microscopy', 108)\n",
    "assert cites[1] == (u'A Src-Like Inactive Conformation in the Abl Tyrosine Kinase Domain', 91)"
   ]
  },
  {
   "cell_type": "markdown",
   "metadata": {},
   "source": [
    "<div class=\"alert alert-success\">\n",
    "    For the papers returned from a search for the first 50 articles affiliated with California Institute of Technology above (stored in the variable `caltech`), retrieve the PLOS Article Level Metrics for each article, then output the number of EuropePMC citations, Facebook posts and Tweets per article. It may take some time for the API to return results for 50 articles.\n",
    "</div>"
   ]
  },
  {
   "cell_type": "code",
   "execution_count": 16,
   "metadata": {
    "collapsed": false,
    "nbgrader": {
     "grade": false,
     "grade_id": "B-ALM-caldois_list",
     "locked": false,
     "solution": true
    }
   },
   "outputs": [
    {
     "name": "stdout",
     "output_type": "stream",
     "text": [
      "caldois list:\n",
      "- DOI 1: 10.1371/journal.pbio.0000051\n",
      "- DOI 2: 10.1371/journal.pone.0035934\n",
      "- DOI 3: 10.1371/journal.pbio.1000444\n",
      "- DOI 4: 10.1371/journal.pone.0022201\n",
      "- DOI 5: 10.1371/journal.pone.0008793\n",
      "- DOI 6: 10.1371/journal.pone.0007757\n",
      "- DOI 7: 10.1371/journal.pone.0148469\n",
      "- DOI 8: 10.1371/journal.pcbi.1000349\n",
      "- DOI 9: 10.1371/journal.pbio.1001153\n",
      "- DOI 10: 10.1371/journal.pone.0026543\n",
      "- DOI 11: 10.1371/journal.pone.0012353\n",
      "- DOI 12: 10.1371/journal.pcbi.1004734\n",
      "- DOI 13: 10.1371/journal.pone.0046473\n",
      "- DOI 14: 10.1371/journal.ppat.1001225\n",
      "- DOI 15: 10.1371/journal.pone.0029172\n",
      "- DOI 16: 10.1371/journal.pone.0000787\n",
      "- DOI 17: 10.1371/journal.pone.0000749\n",
      "- DOI 18: 10.1371/journal.pgen.0020117\n",
      "- DOI 19: 10.1371/journal.pone.0021074\n",
      "- DOI 20: 10.1371/journal.pbio.0040112\n",
      "- DOI 21: 10.1371/journal.pone.0133682\n",
      "- DOI 22: 10.1371/journal.pone.0128944\n",
      "- DOI 23: 10.1371/journal.ppat.1000908\n",
      "- DOI 24: 10.1371/journal.pone.0074513\n",
      "- DOI 25: 10.1371/journal.pcbi.1002811\n",
      "- DOI 26: 10.1371/journal.pbio.1000202\n",
      "- DOI 27: 10.1371/journal.pone.0130582\n",
      "- DOI 28: 10.1371/journal.pcbi.1000675\n",
      "- DOI 29: 10.1371/journal.pcbi.1000354\n",
      "- DOI 30: 10.1371/journal.ppat.1003961\n",
      "- DOI 31: 10.1371/journal.pone.0045301\n",
      "- DOI 32: 10.1371/journal.pone.0015429\n",
      "- DOI 33: 10.1371/journal.pbio.0040233\n",
      "- DOI 34: 10.1371/journal.pbio.0020424\n",
      "- DOI 35: 10.1371/journal.pgen.0030069\n",
      "- DOI 36: 10.1371/journal.pone.0033077\n",
      "- DOI 37: 10.1371/journal.pone.0029822\n",
      "- DOI 38: 10.1371/journal.pone.0003190\n",
      "- DOI 39: 10.1371/journal.pone.0020230\n",
      "- DOI 40: 10.1371/journal.pbio.1002137\n",
      "- DOI 41: 10.1371/journal.pone.0041794\n",
      "- DOI 42: 10.1371/journal.pbio.0020309\n",
      "- DOI 43: 10.1371/journal.pone.0105626\n",
      "- DOI 44: 10.1371/journal.pcbi.1002713\n",
      "- DOI 45: 10.1371/journal.pone.0018377\n",
      "- DOI 46: 10.1371/journal.pone.0004883\n",
      "- DOI 47: 10.1371/journal.pcbi.1000363\n",
      "- DOI 48: 10.1371/journal.pone.0019316\n",
      "- DOI 49: 10.1371/journal.pbio.1001272\n",
      "- DOI 50: 10.1371/journal.pone.0016791\n"
     ]
    }
   ],
   "source": [
    "# Create a list of the first 50 DOIs stored in variable \"caldois\".\n",
    "caldois = []\n",
    "\n",
    "### BEGIN SOLUTION\n",
    "caldois = [doc['doi'][0] for doc in caltech['response']['docs']][0:50]\n",
    "### END SOLUTION\n",
    "\n",
    "print( \"caldois list:\" )\n",
    "doi_counter = 0\n",
    "for current_doi in caldois:\n",
    "    \n",
    "    doi_counter += 1\n",
    "    print( \"- DOI \" + str( doi_counter ) + \": \" + current_doi )\n",
    "    \n",
    "#-- END loop over DOIs."
   ]
  },
  {
   "cell_type": "code",
   "execution_count": 17,
   "metadata": {
    "collapsed": true,
    "nbgrader": {
     "grade": true,
     "grade_id": "B-ALM-caldois_list-test_len",
     "locked": true,
     "points": 1,
     "solution": false
    }
   },
   "outputs": [],
   "source": [
    "# test - should be 50 DOIs.\n",
    "assert len( caldois ) == 50"
   ]
  },
  {
   "cell_type": "code",
   "execution_count": 18,
   "metadata": {
    "collapsed": false,
    "nbgrader": {
     "grade": false,
     "grade_id": "B-ALM-cal_alm",
     "locked": false,
     "solution": true
    }
   },
   "outputs": [
    {
     "name": "stdout",
     "output_type": "stream",
     "text": [
      "Got back 50 ALM records.\n"
     ]
    }
   ],
   "source": [
    "# get the ALMs from PLOS API for these articles and store them in \"cal_alm\".\n",
    "\n",
    "### BEGIN SOLUTION\n",
    "cal_alm = pyalm.get_alm(caldois, info='detail', instance='plos')\n",
    "### END SOLUTION\n",
    "\n",
    "print( \"Got back \" + str( len( cal_alm[ 'articles' ] ) ) + \" ALM records.\" )"
   ]
  },
  {
   "cell_type": "code",
   "execution_count": 19,
   "metadata": {
    "collapsed": true,
    "nbgrader": {
     "grade": true,
     "grade_id": "B-ALM-cal_alm-test",
     "locked": true,
     "points": 1,
     "solution": false
    }
   },
   "outputs": [],
   "source": [
    "# test - should be a dictionary\n",
    "assert type( cal_alm ) == dict # should be dict"
   ]
  },
  {
   "cell_type": "code",
   "execution_count": 20,
   "metadata": {
    "collapsed": false,
    "nbgrader": {
     "grade": false,
     "grade_id": "B-ALM-cal_alm-results",
     "locked": false,
     "solution": true
    }
   },
   "outputs": [
    {
     "name": "stdout",
     "output_type": "stream",
     "text": [
      "results list:\n",
      "- result 1: (u'A Sensorimotor Model for Computing Intended Reach Trajectories', 0, 25, 4)\n",
      "- result 2: (u'High-Throughput Method for Automated Colony and Cell Counting by Digital Image Analysis Based on Edge Detection', 0, 1, 1)\n",
      "- result 3: (u'Exploring the Structure of Human Defensive Responses from Judgments of Threat Scenarios', 0, 0, 3)\n",
      "- result 4: (u'Spatio-Temporal Differences in Dystrophin Dynamics at mRNA and Protein Levels Revealed by a Novel FlipTrap Line', 1, 3, 2)\n",
      "- result 5: (u'Computational Design of the \\u03b2-Sheet Surface of a Red Fluorescent Protein Allows Control of Protein Oligomerization', 0, 0, 2)\n",
      "- result 6: (u'Neural Computations Mediating One-Shot Learning in the Human Brain', 0, 31, 23)\n",
      "- result 7: (u'How Food Controls Aggression in <i>Drosophila</i>', 1, 0, 7)\n",
      "- result 8: (u'The Herpes Virus Fc Receptor gE-gI Mediates Antibody Bipolar Bridging to Clear Viral Antigens from the Cell Surface', 3, 0, 3)\n",
      "- result 9: (u'Genome-Wide Analysis Reveals Coating of the Mitochondrial Genome by TFAM', 4, 0, 7)\n",
      "- result 10: (u'Tuning Promoter Strength through RNA Polymerase Binding Site Design in <i>Escherichia coli</i>', 18, 0, 11)\n",
      "- result 11: (u'Decreased Reactive Oxygen Species Production in Cells with Mitochondrial Haplogroups Associated with Longevity', 4, 7, 4)\n",
      "- result 12: (u'Random Field Model Reveals Structure of the Protein Recombinational Landscape', 2, 0, 0)\n",
      "- result 13: (u'Perspective Distortion from Interpersonal Distance Is an Implicit Visual Cue for Social Judgments of Faces', 2, 6, 23)\n",
      "- result 14: (u'Elevated IKK\\u03b1 Accelerates the Differentiation of Human Neuronal Progenitor Cells and Induces MeCP2-Dependent BDNF Expression', 4, 0, 0)\n",
      "- result 15: (u'Barcoded DNA-Tag Reporters for Multiplex <i>Cis</i>-Regulatory Analysis', 5, 0, 0)\n",
      "- result 16: (u'Single-Cell Census of Mechanosensitive Channels in Living Bacteria', 11, 0, 1)\n",
      "- result 17: (u'Anything You Can Do, You Can Do Better: Neural Substrates of Incentive-Based Performance Enhancement', 3, 0, 10)\n",
      "- result 18: (u'An Optically Stabilized Fast-Switching Light Emitting Diode as a Light Source for Functional Neuroimaging', 1, 0, 0)\n",
      "- result 19: (u'Lateral Gene Expression in <i>Drosophila</i> Early Embryos Is Supported by Grainyhead-Mediated Activation and Tiers of Dorsally-Localized Repression', 8, 0, 0)\n",
      "- result 20: (u'Expression of Sympathetic Nervous System Genes in Lamprey Suggests Their Recruitment for Specification of a New Vertebrate Feature', 7, 0, 0)\n",
      "- result 21: (u'Lennart Philipson (1929\\u20132011): A Warrior Has Passed', 0, 0, 0)\n",
      "- result 22: (u'A Computational-Experimental Approach Identifies Mutations That Enhance Surface Expression of an Oseltamivir-Resistant Influenza Neuraminidase', 20, 0, 0)\n",
      "- result 23: (u'Dynamic Construction of Stimulus Values in the Ventromedial Prefrontal Cortex', 13, 0, 0)\n",
      "- result 24: (u'Intercellular Bridges in Vertebrate Gastrulation', 13, 0, 0)\n",
      "- result 25: (u'Anaerobic Carbon Monoxide Dehydrogenase Diversity in the Homoacetogenic Hindgut Microbial Communities of Lower Termites and the Wood Roach', 5, 0, 0)\n",
      "- result 26: (u'Single Gene Deletions of Orexin, Leptin, Neuropeptide Y, and Ghrelin Do Not Appreciably Alter Food Anticipatory Activity in Mice', 13, 0, 0)\n",
      "- result 27: (u'Self-Organization, Layered Structure, and Aggregation Enhance Persistence of a Synthetic Biofilm Consortium', 21, 0, 0)\n",
      "- result 28: (u'Dimeric 2G12 as a Potent Protection against HIV-1', 15, 0, 0)\n",
      "- result 29: (u'Daily Timed Sexual Interaction Induces Moderate Anticipatory Activity in Mice', 6, 0, 0)\n",
      "- result 30: (u'Colorimetric Measurement of Triglycerides Cannot Provide an Accurate Measure of Stored Fat Content in <i>Drosophila</i>', 10, 0, 0)\n",
      "- result 31: (u'Motor Preparatory Activity in Posterior Parietal Cortex is Modulated by Subjective Absolute Value', 5, 0, 0)\n",
      "- result 32: (u'Few and Far Between: How HIV May Be Evading Antibody Avidity', 51, 0, 0)\n",
      "- result 33: (u'A Dynamic Model of Interactions of Ca<sup>2+</sup>, Calmodulin, and Catalytic Subunits of Ca<sup>2+</sup>/Calmodulin-Dependent Protein Kinase II', 14, 0, 0)\n",
      "- result 34: (u'A New Chamber for Studying the Behavior of <i>Drosophila</i>', 22, 0, 1)\n",
      "- result 35: (u'Ablation of Arginylation in the Mouse N-End Rule Pathway: Loss of Fat, Higher Metabolic Rate, Damaged Spermatogenesis, and Neurological Perturbations', 20, 0, 0)\n",
      "- result 36: (u'Dynamic Interpretation of Hedgehog Signaling in the <i>Drosophila</i> Wing Disc', 23, 0, 0)\n",
      "- result 37: (u'Inferring Stabilizing Mutations from Protein Phylogenies: Application\\n                    to Influenza Hemagglutinin', 22, 0, 1)\n",
      "- result 38: (u'Design Principles for Riboswitch Function', 36, 0, 0)\n",
      "- result 39: (u'Predicting Phenotypic Diversity and the Underlying Quantitative\\n                    Molecular Transitions', 7, 0, 0)\n",
      "- result 40: (u'The Generation of Forces and Moments during Visual-Evoked Steering Maneuvers in Flying <i>Drosophila</i>', 6, 0, 0)\n",
      "- result 41: (u'Practice Makes Imperfect: Restorative Effects of Sleep on Motor Learning', 12, 0, 0)\n",
      "- result 42: (u'Insights from Amphioxus into the Evolution of Vertebrate Cartilage', 50, 0, 1)\n",
      "- result 43: (u'3-D Ultrastructure of <i>O. tauri</i>: Electron Cryotomography of an Entire Eukaryotic Cell', 52, 0, 0)\n",
      "- result 44: (u'The <i>tailless</i> Ortholog <i>nhr-67</i> Regulates Patterning of Gene Expression and Morphogenesis in the <i>C. elegans</i> Vulva', 16, 0, 0)\n",
      "- result 45: (u'Genome-Wide Analysis of Gene Expression during Early <i>Arabidopsis</i> Flower Development', 60, 0, 0)\n",
      "- result 46: (u'Is Avoiding an Aversive Outcome Rewarding? Neural Substrates of Avoidance Learning in the Human Brain', 125, 0, 1)\n",
      "- result 47: (u'Structure-Guided Recombination Creates an Artificial Family of Cytochromes P450', 42, 0, 0)\n",
      "- result 48: (u'Algorithmic Self-Assembly of DNA Sierpinski Triangles', 73, 0, 6)\n",
      "- result 49: (u'Textpresso: An Ontology-Based Information Retrieval and Extraction System for Biological Literature', 185, 0, 0)\n",
      "- result 50: (u'Mechanism for Multiple Ligand Recognition by the Human Transferrin Receptor', 23, 0, 2)\n"
     ]
    }
   ],
   "source": [
    "# Construct a list of tuples in a variable named \"results\" formatted as follows:\n",
    "# [\n",
    "#     ('title1','pmceurope1','facebook1','twitter1'),\n",
    "#     ('title2','pmceurope2','facebook2','twitter2'),\n",
    "#     ...\n",
    "# ]\n",
    "results = []\n",
    "\n",
    "### BEGIN SOLUTION\n",
    "for article in cal_alm['articles']:\n",
    "    results.append((article.title, \n",
    "                   article.sources['pmceurope'].metrics.total,\n",
    "                   article.sources['facebook'].metrics.total,\n",
    "                   article.sources['twitter'].metrics.total))\n",
    "### END SOLUTION\n",
    "\n",
    "print( \"results list:\" )\n",
    "result_counter = 0\n",
    "for current_result in results:\n",
    "    \n",
    "    result_counter += 1\n",
    "    print( \"- result \" + str( result_counter ) + \": \" + str( current_result ) )\n",
    "    \n",
    "#-- END loop over results. --#"
   ]
  },
  {
   "cell_type": "code",
   "execution_count": 21,
   "metadata": {
    "collapsed": false,
    "nbgrader": {
     "grade": true,
     "grade_id": "B-ALM-cal_alm-results-test",
     "locked": true,
     "points": 1,
     "solution": false
    }
   },
   "outputs": [],
   "source": [
    "# test - should be 50 results\n",
    "assert len(results) == 50"
   ]
  },
  {
   "cell_type": "markdown",
   "metadata": {},
   "source": [
    "<div class=\"alert alert-success\">\n",
    "Make a list called `common_tweeters` that contains the twitter account handles for anyone who tweeted about more than one article.  To do this, first find articles with one or more tweets and store them in a list named `tweeted`.  Then, make a set of the unique account names of the users who tweeted about one or more articles, and store this set in a variable named `unique_accounts`.  Finally, identify accounts that tweeted more than one article, store the list of the twitter handles of these accounts in variable `common_tweeters`, then output the common tweeters.\n",
    "<br />\n",
    "<br />\n",
    "Note that some accounts might tweet about the same article twice. We are only interested in cases where the same account is tweeting about more than one article. \n",
    "</div>"
   ]
  },
  {
   "cell_type": "code",
   "execution_count": 22,
   "metadata": {
    "collapsed": false,
    "nbgrader": {
     "grade": false,
     "grade_id": "B-tweet-articles",
     "locked": false,
     "solution": true
    }
   },
   "outputs": [
    {
     "name": "stdout",
     "output_type": "stream",
     "text": [
      "Tweeted articles: 20\n"
     ]
    }
   ],
   "source": [
    "# Find articles that were tweeted at least once.  Store them in list \"tweeted\".\n",
    "tweeted = []\n",
    "\n",
    "### BEGIN SOLUTION\n",
    "for article in cal_alm['articles']:\n",
    "    if article.sources['twitter'].metrics.total != 0:\n",
    "        tweeted.append(article)\n",
    "### END SOLUTION\n",
    "\n",
    "print( \"Tweeted articles: \" + str( len( tweeted ) ) )"
   ]
  },
  {
   "cell_type": "code",
   "execution_count": 23,
   "metadata": {
    "collapsed": false,
    "nbgrader": {
     "grade": true,
     "grade_id": "B-tweet-articles-test",
     "locked": true,
     "points": 1,
     "solution": false
    }
   },
   "outputs": [],
   "source": [
    "# test - should be at least 10 tweeted articles.\n",
    "assert len(tweeted) > 10"
   ]
  },
  {
   "cell_type": "code",
   "execution_count": 24,
   "metadata": {
    "collapsed": false,
    "nbgrader": {
     "grade": false,
     "grade_id": "B-tweet-users",
     "locked": false,
     "solution": true
    }
   },
   "outputs": [
    {
     "name": "stdout",
     "output_type": "stream",
     "text": [
      "Unique Account Count: 92\n"
     ]
    }
   ],
   "source": [
    "# Now obtain all the account names. Look at the example notebook\n",
    "#    \"3. Working in practice.ipynb\" for how to get this information.\n",
    "unique_accounts = set()\n",
    "\n",
    "### BEGIN SOLUTION\n",
    "for article in tweeted:\n",
    "    for tweet in article.sources['twitter'].events:\n",
    "        unique_accounts.add(tweet['event']['user'])\n",
    "        \n",
    "### END SOLUTION\n",
    "\n",
    "print( \"Unique Account Count: \" + str( len(unique_accounts) ) )"
   ]
  },
  {
   "cell_type": "code",
   "execution_count": 25,
   "metadata": {
    "collapsed": false,
    "nbgrader": {
     "grade": false,
     "grade_id": "B-tweet-common_tweeters",
     "locked": false,
     "solution": true
    }
   },
   "outputs": [
    {
     "name": "stdout",
     "output_type": "stream",
     "text": [
      "Found 4 common tweeters:\n",
      "[u'neuroraf', u'PLOSBiology', u'uranus_2', u'thebaybot']\n"
     ]
    }
   ],
   "source": [
    "# Now check whether each twitter account tweeted about more than one article.\n",
    "#    This requires a little care and attention.  Store the handle of each twitter\n",
    "#    user who tweeted about more than one article in a list in \"common_tweeters\".\n",
    "common_tweeters = []\n",
    "\n",
    "### BEGIN SOLUTION\n",
    "for account in unique_accounts:\n",
    "    count = 0\n",
    "    for article in tweeted:\n",
    "        tweeters = [tweet['event']['user'] for tweet in article.sources['twitter'].events]\n",
    "        if account in tweeters:\n",
    "            count+=1\n",
    "            \n",
    "    if count > 1:\n",
    "        common_tweeters.append(account)\n",
    "### END SOLUTION\n",
    "\n",
    "print( \"Found \" + str( len( common_tweeters ) ) + \" common tweeters:\" )\n",
    "print( common_tweeters )"
   ]
  },
  {
   "cell_type": "code",
   "execution_count": 26,
   "metadata": {
    "collapsed": false,
    "nbgrader": {
     "grade": true,
     "grade_id": "B-tweet-common_tweeters-test",
     "locked": true,
     "points": 1,
     "solution": false
    }
   },
   "outputs": [],
   "source": [
    "# test - should be at least one common tweeter\n",
    "assert common_tweeters != []"
   ]
  },
  {
   "cell_type": "code",
   "execution_count": null,
   "metadata": {
    "collapsed": true
   },
   "outputs": [],
   "source": []
  }
 ],
 "metadata": {
  "celltoolbar": "Create Assignment",
  "kernelspec": {
   "display_name": "Python 2",
   "language": "python",
   "name": "python2"
  },
  "language_info": {
   "codemirror_mode": {
    "name": "ipython",
    "version": 2
   },
   "file_extension": ".py",
   "mimetype": "text/x-python",
   "name": "python",
   "nbconvert_exporter": "python",
   "pygments_lexer": "ipython2",
   "version": "2.7.13"
  }
 },
 "nbformat": 4,
 "nbformat_minor": 0
}
